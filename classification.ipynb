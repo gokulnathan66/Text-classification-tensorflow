{
 "cells": [
  {
   "cell_type": "code",
   "execution_count": null,
   "id": "0cd701ce-0fa9-440c-a057-70c2fa307b4e",
   "metadata": {},
   "outputs": [],
   "source": []
  }
 ],
 "metadata": {
  "kernelspec": {
   "display_name": "",
   "name": ""
  },
  "language_info": {
   "name": ""
  }
 },
 "nbformat": 4,
 "nbformat_minor": 5
}
